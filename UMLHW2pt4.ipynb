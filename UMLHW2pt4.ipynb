{
  "nbformat": 4,
  "nbformat_minor": 0,
  "metadata": {
    "colab": {
      "provenance": []
    },
    "kernelspec": {
      "name": "python3",
      "display_name": "Python 3"
    },
    "language_info": {
      "name": "python"
    }
  },
  "cells": [
    {
      "cell_type": "markdown",
      "source": [
        "Cameron Jester\n",
        "UML HW 2 PT 4\n",
        "\n",
        "- Done -\n",
        "\n"
      ],
      "metadata": {
        "id": "GW_FV1_49MtA"
      }
    },
    {
      "cell_type": "markdown",
      "source": [
        "PROBLEM 4 EM for coin flips\n",
        "\n",
        "Three coins A,B,C with head-prob p_A, p_B, p_C can be chosen for each of N sessions. Once a coin is chosen for the session, that coin is flipped D times.\n",
        "For D=20 and N=50, and fixed non-uniform selection coin probabilities pi_A, pi_B, pi_C, which sum to 1, we have this outcome , each row corresponds to a session with 20 binary 1=head 0=tail.\n",
        "\n",
        "Compute the probabilities to select each coin to session (3 mixture \"pi\" probabilities), and also the bias probabilities (3 param \"p\" probabilities).\n",
        "\n",
        "HINT: for each session, since the D flips are independent of each other, what matters is the number of heads out of the batch size D. If chance of head is p_ for each flip, then probability of observing x heads is binomial(x|p_, D). Here is a technical brief note .\n",
        "In English: binomial(X|p_,D) = probability to get x heads out of D coin flips, if coin has head-bias p_."
      ],
      "metadata": {
        "id": "QcWqSUbI9Waq"
      }
    },
    {
      "cell_type": "code",
      "source": [
        "from google.colab import drive\n",
        "drive.mount('/content/drive')"
      ],
      "metadata": {
        "colab": {
          "base_uri": "https://localhost:8080/"
        },
        "id": "rGuTe0hm_HH7",
        "outputId": "9dea7671-b989-435b-81d1-f43aea2d3fe2"
      },
      "execution_count": null,
      "outputs": [
        {
          "output_type": "stream",
          "name": "stdout",
          "text": [
            "Mounted at /content/drive\n"
          ]
        }
      ]
    },
    {
      "cell_type": "code",
      "execution_count": null,
      "metadata": {
        "id": "8-pCRIyB9GBv"
      },
      "outputs": [],
      "source": [
        "filepath = '/content/drive/My Drive/archive-3/coin_flips_outcome.txt'"
      ]
    },
    {
      "cell_type": "code",
      "source": [
        "import random\n",
        "import pandas as pd\n",
        "import numpy as np\n",
        "from scipy.stats import binom\n",
        "\n",
        "\n",
        "data = pd.read_csv(filepath, header=None)\n",
        "#need to do some preprocessing to get 1/0s in an array\n",
        "\n",
        "data_array = []\n",
        "for row in data.values:\n",
        "    i_data = [list(map(int, entry.split())) for entry in row] #splitting by spaces since no comma, not strings so need to make #\n",
        "    data_array.append(i_data)\n",
        "\n",
        "data = np.array(data_array)\n",
        "\n",
        "\n",
        "d = 20  #flips per session\n",
        "n = 50  #sessions\n",
        "\n",
        "\n",
        "head_counts = np.array([np.sum(row) for row in data])#getting the count of heads for each row since that will reprsent one session\n",
        " #can get the bias of coins from this later)\n",
        "\n",
        "\n",
        "#met with a TA, who told me to select my own numbers to start this off\n",
        "coins= 3\n",
        "#p = np.random.rand(3)\n",
        "p = np.array([0.70, 0.25, 0.62])\n",
        "pi = np.ones(coins) / coins  ##just uniform 1/3 of selecting each coin to start,\n",
        "\n",
        "\n",
        "def e_step(head_counts, d, p, pi):\n",
        "\n",
        "\n",
        "    responsibilities = np.array([\n",
        "        binom.pmf(head_counts, d, p[k])   #pmf = Probability Mass Function, gives the probability of # of heads in a given session given the bias assigned to coin\n",
        "        #just looping through all three coins\n",
        "        for k in range(coins)])\n",
        "    responsibilities /= responsibilities.sum(axis=0)   #normalizing over all of the components for each coin, like would with cluster\n",
        "    return responsibilities\n",
        "\n",
        "\n",
        "def m_step(responsibilities, head_counts, d):\n",
        "    #updating selection probs, this forumla comes from the site listed\n",
        "    pi = responsibilities.sum(axis=1) / n\n",
        "\n",
        "    #updating head bias,  this forumla comes from the site listed\n",
        "    p = np.array([\n",
        "    np.sum(responsibilities[j] * head_counts) / (d * np.sum(responsibilities[j]))\n",
        "        for j in range(3)])\n",
        "\n",
        "\n",
        "\n",
        "    log_likelihood = np.sum(np.log(np.sum([\n",
        "        pi[k] * binom.pmf(head_counts, d, p[k]) for k in range(coins)\n",
        "    ], axis=0)))\n",
        "\n",
        "    return pi, p, log_likelihood\n",
        "\n",
        "#actually running here, was told by a TA that 100 would be good\n",
        "max_iter = 100\n",
        "log_likelihoods = []\n",
        "\n",
        "for iteration in range(max_iter):\n",
        "    responsibilities = e_step(head_counts, d, p, pi)\n",
        "    pi, p, log_likelihood = m_step(responsibilities, head_counts, d)\n",
        "\n",
        "\n",
        "    log_likelihoods.append(log_likelihood)\n",
        "\n",
        "\n",
        "print(p)\n",
        "print(pi)\n",
        "print(log_likelihoods)"
      ],
      "metadata": {
        "colab": {
          "base_uri": "https://localhost:8080/"
        },
        "id": "pZ2gaszA92HS",
        "outputId": "52387f36-6077-4960-b4ab-6664548c346e"
      },
      "execution_count": null,
      "outputs": [
        {
          "output_type": "stream",
          "name": "stdout",
          "text": [
            "[0.92663702 0.24910494 0.61699181]\n",
            "[0.18495001 0.32961409 0.4854359 ]\n",
            "[-153.42975141847927, -149.4097179773084, -147.15763573024174, -145.5401530224987, -144.2444709729008, -143.2426512823878, -142.58544575378062, -142.25399633469812, -142.12792501998956, -142.0890099998133, -142.0784637767738, -142.0760242265501, -142.07569315481155, -142.07580919493338, -142.07595603786572, -142.07605671035748, -142.07611490420703, -142.07614598118607, -142.07616185368346, -142.07616973858498, -142.0761735841533, -142.0761754360484, -142.07617631987583, -142.07617673895575, -142.07617693672506, -142.07617702972678, -142.07617707334643, -142.0761770937646, -142.07617710330823, -142.07617710776395, -142.07617710984243, -142.07617711081144, -142.07617711126298, -142.07617711147324, -142.07617711157118, -142.0761771116168, -142.07617711163797, -142.07617711164784, -142.0761771116525, -142.07617711165466, -142.07617711165562, -142.07617711165608, -142.07617711165628, -142.07617711165636, -142.07617711165645, -142.07617711165642, -142.07617711165645, -142.07617711165648, -142.07617711165645, -142.07617711165648, -142.07617711165648, -142.07617711165648, -142.07617711165648, -142.07617711165648, -142.07617711165648, -142.07617711165648, -142.07617711165648, -142.07617711165648, -142.07617711165648, -142.07617711165648, -142.07617711165648, -142.07617711165648, -142.07617711165648, -142.07617711165648, -142.07617711165648, -142.07617711165648, -142.07617711165648, -142.07617711165648, -142.07617711165648, -142.07617711165648, -142.07617711165648, -142.07617711165648, -142.07617711165648, -142.07617711165648, -142.07617711165648, -142.07617711165648, -142.07617711165648, -142.07617711165648, -142.07617711165648, -142.07617711165648, -142.07617711165648, -142.07617711165648, -142.07617711165648, -142.07617711165648, -142.07617711165648, -142.07617711165648, -142.07617711165648, -142.07617711165648, -142.07617711165648, -142.07617711165648, -142.07617711165648, -142.07617711165648, -142.07617711165648, -142.07617711165648, -142.07617711165648, -142.07617711165648, -142.07617711165648, -142.07617711165648, -142.07617711165648, -142.07617711165648]\n"
          ]
        }
      ]
    },
    {
      "cell_type": "markdown",
      "source": [
        "\n",
        "1. Coin 1:\n",
        "   - p ≈ 0.237 (24% heads)\n",
        "   - π ≈ 0.307 (31% of sessions)\n",
        "\n",
        "2. Coin 2:\n",
        "   - p ≈ 0.610 (61% heads)\n",
        "   - π ≈ 0.515 (51% of sessions)\n",
        "\n",
        "3. Coin 3:\n",
        "   - p ≈ 0.932 (93% heads)\n",
        "   - π ≈ 0.179 (18% of sessions)"
      ],
      "metadata": {
        "id": "h8hPfgro_c2T"
      }
    }
  ]
}