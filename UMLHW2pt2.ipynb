{
  "nbformat": 4,
  "nbformat_minor": 0,
  "metadata": {
    "colab": {
      "provenance": [],
      "machine_shape": "hm"
    },
    "kernelspec": {
      "name": "python3",
      "display_name": "Python 3"
    },
    "language_info": {
      "name": "python"
    }
  },
  "cells": [
    {
      "cell_type": "markdown",
      "source": [
        "\n",
        "Cameron Jester\n",
        "UML HW 2 Part 1\n"
      ],
      "metadata": {
        "id": "5AUqnECjErja"
      }
    },
    {
      "cell_type": "markdown",
      "source": [
        "Using Euclidian distance or dot product similarity (choose one per dataset, you can try other similarity metrics).\n",
        "A) run KMeans on the MNIST Dataset, try K=10\n",
        "B) run KMeans on the FASHION Dataset, try K=10\n",
        "C) run KMeans on the 20NG Dataset, try K=20\n",
        "You can use a library for distance/similarity but you have to implement your own kmeans (EM steps, termination criteria etc).\n",
        "For all three datasets, evaluate the KMeans objective for a higher K (for example double) or smaller K(for example half).\n",
        "For all three datasets, evaluate external clustering performance using data labels and performance metrics Purity and Gini Index (see [A] book section 6.9.2)."
      ],
      "metadata": {
        "id": "bnXS8YzaFAge"
      }
    },
    {
      "cell_type": "code",
      "execution_count": 21,
      "metadata": {
        "colab": {
          "base_uri": "https://localhost:8080/"
        },
        "id": "qGwsOFYZEqZa",
        "outputId": "fdd3078d-a1a1-4a73-b058-a55981f15062"
      },
      "outputs": [
        {
          "output_type": "stream",
          "name": "stdout",
          "text": [
            "Drive already mounted at /content/drive; to attempt to forcibly remount, call drive.mount(\"/content/drive\", force_remount=True).\n"
          ]
        }
      ],
      "source": [
        "from google.colab import drive\n",
        "drive.mount('/content/drive')"
      ]
    },
    {
      "cell_type": "code",
      "source": [
        "import pandas as pd\n",
        "import numpy as np\n",
        "import matplotlib.pyplot as plt\n",
        "from numpy.random import uniform\n",
        "from sklearn.metrics.pairwise import euclidean_distances"
      ],
      "metadata": {
        "id": "nze35_6qE810"
      },
      "execution_count": 22,
      "outputs": []
    },
    {
      "cell_type": "code",
      "source": [
        "import torch\n",
        "import torchvision\n",
        "from torchvision import datasets\n",
        "\n",
        "root_dir = '/tmp/data'\n",
        "#comes as both\n",
        "train_data = datasets.MNIST(root=root_dir, train=True, download=True)\n",
        "test_data = datasets.MNIST(root=root_dir, train=False, download=True)\n",
        "\n",
        "\n",
        "images = torch.cat((train_data.data, test_data.data), dim=0)\n",
        "labels = torch.cat((train_data.targets, test_data.targets), dim=0)\n",
        "\n",
        "\n",
        "images_flat = images.view(images.size(0), -1).numpy()\n",
        "\n",
        "\n",
        "mnist_df = pd.DataFrame(images_flat)\n",
        "mnist_df['Label'] = labels\n",
        "\n",
        "normalized_df = mnist_df.drop(columns = 'Label') / 255.0\n",
        "normalized_df['Label'] = mnist_df['Label']\n",
        "\n",
        "\n"
      ],
      "metadata": {
        "id": "-PBdGvfzFClS"
      },
      "execution_count": 23,
      "outputs": []
    },
    {
      "cell_type": "code",
      "source": [
        "#https://towardsdatascience.com/create-your-own-k-means-clustering-algorithm-in-python-d7d4c9077670\n",
        "#used the above website as a starting point\n",
        "\n",
        "import numpy as np\n",
        "from sklearn.metrics import pairwise_distances\n",
        "#originally had a kmeans that wouldnt work after k > 10, cause of list comprehemsion etc\n",
        "class OptimizedKMeans:\n",
        "    def __init__(self, k=10, tol=1e-6, verbose=True):\n",
        "        self.k = k\n",
        "        self.tol = tol\n",
        "        self.centroids = None\n",
        "        self.verbose = verbose\n",
        "\n",
        "    def initial_centroids(self, X):\n",
        "\n",
        "        index = np.random.choice(X.shape[0], self.k, replace=False)#picking random centroid within the data\n",
        "        self.centroids = X[index]\n",
        "\n",
        "    def distance(self, X):\n",
        "        return pairwise_distances(X, self.centroids, metric=\"euclidean\") #originally calculating euclidean from formula slowed down computation a lot\n",
        "\n",
        "    def assign_clusters(self, distances):\n",
        "        return np.argmin(distances, axis=1) #finding the closest center\n",
        "\n",
        "    def update_centroids(self, X, labels):\n",
        "        #m-step here\n",
        "        new_centroids = np.zeros_like(self.centroids)\n",
        "        for k in range(self.k):\n",
        "            cluster_points = X[labels == k]\n",
        "            if cluster_points.shape[0] > 0:\n",
        "                new_centroids[k] = np.mean(cluster_points, axis=0)\n",
        "        return new_centroids\n",
        "\n",
        "    def compute_objective(self, distances, labels):\n",
        "        return np.sum([distances[i, labels[i]] ** 2 for i in range(len(labels))])\n",
        "\n",
        "    def fit(self, X, max_iters=100):\n",
        "\n",
        "        X = np.array(X)\n",
        "        self.initial_centroids(X)\n",
        "\n",
        "        for i in range(max_iters):\n",
        "            distances = self.distance(X)\n",
        "            labels = self.assign_clusters(distances)\n",
        "            new_centroids = self.update_centroids(X, labels)\n",
        "            objective_value = self.compute_objective(distances, labels)\n",
        "\n",
        "            centroid_shift = np.linalg.norm(new_centroids - self.centroids)\n",
        "            if self.verbose:\n",
        "                print(f\"Objective: {objective_value}\")\n",
        "\n",
        "            if centroid_shift < self.tol:\n",
        "                break\n",
        "\n",
        "            self.centroids = new_centroids\n",
        "\n",
        "        return labels\n",
        "\n",
        "    def predict(self, X):\n",
        "        distances = self.distance(X)\n",
        "        return self.assign_clusters(distances)\n",
        "\n",
        "    def purity_score(self, y_true, y_pred):\n",
        "        clusters = np.unique(y_pred)\n",
        "        majority_sum = 0\n",
        "        for cluster in clusters:\n",
        "            indices = np.where(y_pred == cluster)\n",
        "            majority_class = np.bincount(y_true[indices]).argmax()\n",
        "            majority_sum += np.sum(y_true[indices] == majority_class)\n",
        "        return majority_sum / len(y_true)\n",
        "\n",
        "    def gini_index(self, y_true, y_pred):\n",
        "        clusters = np.unique(y_pred)\n",
        "        gini = 0\n",
        "        for cluster in clusters:\n",
        "            cluster_mask = (y_pred == cluster) #count of when model is right\n",
        "            cluster_labels = y_true[cluster_mask] #count\n",
        "            cluster_size = np.sum(cluster_mask)\n",
        "            gini_cluster = 1 - np.sum((np.unique(cluster_labels, return_counts=True)[1] / cluster_size) ** 2)\n",
        "            gini += (cluster_size / len(y_true)) * gini_cluster\n",
        "        return gini\n",
        "\n",
        "\n"
      ],
      "metadata": {
        "id": "Wdh1OUhJ6Ihf"
      },
      "execution_count": 26,
      "outputs": []
    },
    {
      "cell_type": "code",
      "source": [
        "X = normalized_df.values\n",
        "\n",
        "\n",
        "y_true = normalized_df['Label'].values\n",
        "\n",
        "kmeans = OptimizedKMeans(k=5)\n",
        "labels = kmeans.fit(X)\n",
        "purity = kmeans.purity_score(y_true, labels)\n",
        "print(\"Purity Score:\", purity)\n",
        "gini = kmeans.gini_index(y_true, labels)\n",
        "print(\"Gini Index:\", gini)"
      ],
      "metadata": {
        "colab": {
          "base_uri": "https://localhost:8080/"
        },
        "id": "_fFFIVr86L4q",
        "outputId": "ae27be6c-09f1-4d27-9fc4-0eba1706a398"
      },
      "execution_count": 28,
      "outputs": [
        {
          "output_type": "stream",
          "name": "stdout",
          "text": [
            "Objective: 6151717.157677817\n",
            "Objective: 3445222.267738994\n",
            "Objective: 3340910.802118913\n",
            "Objective: 3302526.6987042204\n",
            "Objective: 3290293.7116342094\n",
            "Objective: 3287734.4031196074\n",
            "Objective: 3286899.788818795\n",
            "Objective: 3286165.7941167546\n",
            "Objective: 3285160.8934735684\n",
            "Objective: 3283629.313437463\n",
            "Objective: 3281707.367070368\n",
            "Objective: 3279805.6795046087\n",
            "Objective: 3278273.7994278893\n",
            "Objective: 3277156.4055115147\n",
            "Objective: 3276279.074083939\n",
            "Objective: 3275623.6920571644\n",
            "Objective: 3275153.729279093\n",
            "Objective: 3274876.9712137324\n",
            "Objective: 3274670.3324048645\n",
            "Objective: 3274420.708628334\n",
            "Objective: 3274184.026163076\n",
            "Objective: 3273944.700541258\n",
            "Objective: 3273662.668043029\n",
            "Objective: 3273340.603826941\n",
            "Objective: 3272976.3680445286\n",
            "Objective: 3272582.52116741\n",
            "Objective: 3272174.063435236\n",
            "Objective: 3271851.3833653764\n",
            "Objective: 3271624.897773395\n",
            "Objective: 3271471.351966486\n",
            "Objective: 3271359.522006662\n",
            "Objective: 3271283.7890420044\n",
            "Objective: 3271235.0956199765\n",
            "Objective: 3271194.328356907\n",
            "Objective: 3271151.122614228\n",
            "Objective: 3271109.5239189346\n",
            "Objective: 3271071.5583189838\n",
            "Objective: 3271033.3877691533\n",
            "Objective: 3271004.566616316\n",
            "Objective: 3270976.9582203347\n",
            "Objective: 3270954.7755994685\n",
            "Objective: 3270937.018910443\n",
            "Objective: 3270918.9050209695\n",
            "Objective: 3270901.7038134583\n",
            "Objective: 3270886.5407779776\n",
            "Objective: 3270874.7337721605\n",
            "Objective: 3270865.914010517\n",
            "Objective: 3270856.888785236\n",
            "Objective: 3270849.770855466\n",
            "Objective: 3270840.7023131624\n",
            "Objective: 3270829.016512511\n",
            "Objective: 3270818.0423235474\n",
            "Objective: 3270809.1918326705\n",
            "Objective: 3270796.5570972688\n",
            "Objective: 3270785.8012001705\n",
            "Objective: 3270776.618716401\n",
            "Objective: 3270769.834381803\n",
            "Objective: 3270765.321922671\n",
            "Objective: 3270760.538498381\n",
            "Objective: 3270757.3670989345\n",
            "Objective: 3270755.141874971\n",
            "Objective: 3270752.572894264\n",
            "Objective: 3270750.6528236857\n",
            "Objective: 3270750.0324607096\n",
            "Objective: 3270749.4737735847\n",
            "Objective: 3270748.8148536924\n",
            "Objective: 3270748.3296851176\n",
            "Objective: 3270747.671365192\n",
            "Objective: 3270746.868475669\n",
            "Objective: 3270746.257691624\n",
            "Objective: 3270745.8399431594\n",
            "Objective: 3270745.3435248705\n",
            "Objective: 3270744.533791898\n",
            "Objective: 3270743.6887205252\n",
            "Objective: 3270742.6091014035\n",
            "Objective: 3270741.645449908\n",
            "Objective: 3270740.719152146\n",
            "Objective: 3270739.3281674734\n",
            "Objective: 3270738.361991856\n",
            "Objective: 3270737.0591832353\n",
            "Objective: 3270736.1959405364\n",
            "Objective: 3270735.564527206\n",
            "Objective: 3270734.617120209\n",
            "Objective: 3270734.170298334\n",
            "Objective: 3270733.9339234\n",
            "Objective: 3270733.6796373087\n",
            "Objective: 3270733.4931403617\n",
            "Objective: 3270733.2583753485\n",
            "Objective: 3270733.1326584145\n",
            "Objective: 3270733.065115018\n",
            "Objective: 3270732.979499389\n",
            "Objective: 3270732.787304801\n",
            "Objective: 3270732.7492458355\n",
            "Objective: 3270732.7411921266\n",
            "Purity Score: 0.49164285714285716\n",
            "Gini Index: 0.5780210202438048\n"
          ]
        }
      ]
    },
    {
      "cell_type": "markdown",
      "source": [
        "Purity Score kmeans=10 for the MNIST: 0.7827857142857143\n",
        "\n",
        "Gini Index kmeans=10 for the MNIST:  0.31031970933808695\n",
        "\n",
        "\n",
        "\n",
        "\n",
        "\n",
        "Purity Score kmeans=20 for the MNIST:0.8757714285714285\n",
        "\n",
        "Gini Index kmeans=20 for the MNIST: 0.1886065272293594\n",
        "\n",
        "\n",
        "\n",
        "Purity Score kmeans=5 for the MNIST: 0.5019714285714286\n",
        "\n",
        "Gini Index kmeans=5 for the MNIST: 0.49164285714285716"
      ],
      "metadata": {
        "id": "Xue8razxHdMB"
      }
    },
    {
      "cell_type": "code",
      "source": [
        "filepath = '/content/drive/My Drive/archive-2/fashion-mnist_test.csv'\n",
        "filepath2 = '/content/drive/My Drive/archive-2/fashion-mnist_train.csv'\n",
        "\n",
        "train_df = pd.read_csv(filepath2)\n",
        "test_df = pd.read_csv(filepath)\n",
        "df = pd.concat((train_df, test_df))\n",
        "\n",
        "y_true = df['label'].values\n",
        "\n",
        "df = df.drop(columns=['label'])\n",
        "df = df/255 #normalizing\n",
        "\n",
        "X = df.values\n",
        "\n",
        "kmeans = OptimizedKMeans(k=20)\n",
        "labels = kmeans.fit(X)\n",
        "\n",
        "\n",
        "purity = kmeans.purity_score(y_true, labels)\n",
        "print(\"Purity Score:\", purity)\n",
        "gini = kmeans.gini_index(y_true, labels)\n",
        "print(\"Gini Index:\", gini)\n"
      ],
      "metadata": {
        "colab": {
          "base_uri": "https://localhost:8080/"
        },
        "id": "DVckpnYFHgYr",
        "outputId": "6d43a059-294c-4d30-bb1c-98c762e1f84f"
      },
      "execution_count": 47,
      "outputs": [
        {
          "output_type": "stream",
          "name": "stdout",
          "text": [
            "Objective: 3461110.176655131\n",
            "Objective: 2084923.28291133\n",
            "Objective: 2035417.4575600813\n",
            "Objective: 2010338.477291605\n",
            "Objective: 1994593.1186896223\n",
            "Objective: 1982362.9583775424\n",
            "Objective: 1969719.6109198555\n",
            "Objective: 1951534.32630745\n",
            "Objective: 1927756.0926431692\n",
            "Objective: 1911374.988933131\n",
            "Objective: 1905010.6649034987\n",
            "Objective: 1901967.6100282343\n",
            "Objective: 1899927.7587298215\n",
            "Objective: 1898351.0147084412\n",
            "Objective: 1897268.5010500744\n",
            "Objective: 1896466.6410961035\n",
            "Objective: 1895856.1530222988\n",
            "Objective: 1895348.9131564037\n",
            "Objective: 1894940.6550407554\n",
            "Objective: 1894583.0346824068\n",
            "Objective: 1894191.3378963822\n",
            "Objective: 1893732.9554810245\n",
            "Objective: 1893274.2733797904\n",
            "Objective: 1892704.4159230355\n",
            "Objective: 1892129.5773013122\n",
            "Objective: 1891469.6260367495\n",
            "Objective: 1890749.0243982517\n",
            "Objective: 1890015.1539525934\n",
            "Objective: 1889163.619251289\n",
            "Objective: 1888222.9909900525\n",
            "Objective: 1887188.4369507916\n",
            "Objective: 1886443.3973584273\n",
            "Objective: 1885983.6259224534\n",
            "Objective: 1885745.064629642\n",
            "Objective: 1885586.9467655837\n",
            "Objective: 1885502.160085326\n",
            "Objective: 1885451.7048424918\n",
            "Objective: 1885412.5748799413\n",
            "Objective: 1885382.4514734473\n",
            "Objective: 1885357.7032414854\n",
            "Objective: 1885330.1820308617\n",
            "Objective: 1885303.515229088\n",
            "Objective: 1885279.277370495\n",
            "Objective: 1885251.7280752412\n",
            "Objective: 1885227.0499263748\n",
            "Objective: 1885196.411517971\n",
            "Objective: 1885155.6412938659\n",
            "Objective: 1885120.9567644135\n",
            "Objective: 1885073.768428665\n",
            "Objective: 1885029.1457240768\n",
            "Objective: 1884971.7288199102\n",
            "Objective: 1884881.718543816\n",
            "Objective: 1884732.7197357807\n",
            "Objective: 1884524.7047922653\n",
            "Objective: 1884273.2922657898\n",
            "Objective: 1883985.9196080707\n",
            "Objective: 1883705.7264285444\n",
            "Objective: 1883462.8304025773\n",
            "Objective: 1883220.7824595235\n",
            "Objective: 1882994.2842523141\n",
            "Objective: 1882757.20259721\n",
            "Objective: 1882508.1864095232\n",
            "Objective: 1882255.4253768309\n",
            "Objective: 1881958.5866352955\n",
            "Objective: 1881696.2655020838\n",
            "Objective: 1881462.602821474\n",
            "Objective: 1881265.6766777092\n",
            "Objective: 1881070.8371731217\n",
            "Objective: 1880826.8558893362\n",
            "Objective: 1880530.047637824\n",
            "Objective: 1880207.3749942489\n",
            "Objective: 1879927.102329885\n",
            "Objective: 1879660.798070979\n",
            "Objective: 1879376.0806148092\n",
            "Objective: 1879069.7622629106\n",
            "Objective: 1878801.2459707155\n",
            "Objective: 1878539.1029903062\n",
            "Objective: 1878308.8172379488\n",
            "Objective: 1878105.6734184395\n",
            "Objective: 1877914.5080815093\n",
            "Objective: 1877697.587462715\n",
            "Objective: 1877483.5944025815\n",
            "Objective: 1877258.907694384\n",
            "Objective: 1877063.107899018\n",
            "Objective: 1876899.773559883\n",
            "Objective: 1876752.1347146167\n",
            "Objective: 1876628.72012505\n",
            "Objective: 1876507.3948733425\n",
            "Objective: 1876360.9261487613\n",
            "Objective: 1876210.7554106598\n",
            "Objective: 1876009.9144695322\n",
            "Objective: 1875742.2388679038\n",
            "Objective: 1875450.9839369406\n",
            "Objective: 1875173.5736809461\n",
            "Objective: 1874946.1299674704\n",
            "Objective: 1874753.6920252582\n",
            "Objective: 1874599.2695673306\n",
            "Objective: 1874462.228762256\n",
            "Objective: 1874368.8817592757\n",
            "Objective: 1874306.792140091\n",
            "Purity Score: 0.6545857142857143\n",
            "Gini Index: 0.4511777137250461\n"
          ]
        }
      ]
    },
    {
      "cell_type": "markdown",
      "source": [
        "Purity Score kmeans=10 for the FASHION MNIST: 0.5546428571428571\n",
        "\n",
        "Gini Index kmeans=10 for the FASHION MNIST: 0.5399887747713308\n",
        "\n",
        "\n",
        "\n",
        "Purity Score kmeans= 20 for the FASHION  MNIST: 0.6545857142857143\n",
        "\n",
        "\n",
        "Gini Index kmeans= 20 for the FASHION MNIST: 0.4511777137250461\n",
        "\n",
        "\n",
        "\n",
        "Purity Score kmeans=5 for the FASHION  MNIST: 0.4107142857142857\n",
        "\n",
        "Gini Index kmeans=5 for the FASHION MNIST: 0.7070143912323185\n",
        "\n"
      ],
      "metadata": {
        "id": "mNQgiElbHrg3"
      }
    },
    {
      "cell_type": "code",
      "source": [
        "#JUST USING SAME DATA PREP FROM HW1\n",
        "\n",
        "import numpy as np\n",
        "from sklearn.metrics.pairwise import cosine_distances\n",
        "from sklearn.datasets import fetch_20newsgroups\n",
        "from sklearn.feature_extraction.text import CountVectorizer, TfidfTransformer\n",
        "import pandas as pd\n",
        "\n",
        "\n",
        "newsgroup_data = fetch_20newsgroups(subset=\"test\")\n",
        "texts = newsgroup_data.data\n",
        "newsgroup = newsgroup_data.target\n",
        "\n",
        "vectorizer = CountVectorizer(stop_words='english')\n",
        "tfidf = TfidfTransformer()\n",
        "\n",
        "\n",
        "text_vectorized = vectorizer.fit_transform(texts)\n",
        "text_tf = tfidf.fit_transform(text_vectorized)\n",
        "\n",
        "\n",
        "ng_df = pd.DataFrame(text_tf.toarray())\n",
        "ng_df['Label'] = newsgroup\n"
      ],
      "metadata": {
        "id": "QSKdsY8joOrL"
      },
      "execution_count": 2,
      "outputs": []
    },
    {
      "cell_type": "code",
      "source": [
        "import numpy as np\n",
        "from sklearn.metrics import pairwise_distances\n",
        "\n",
        "class Kmeans20NG:\n",
        "  def __init__(self, k=10, max_iters = 100,  tol=1e-6, verbose=True):\n",
        "        self.k = k\n",
        "        self.max_iters = max_iters\n",
        "        self.tol = tol\n",
        "        self.centroids = None\n",
        "        self.verbose = verbose\n",
        "  def initial_centroids(self, X):\n",
        "    np.random.seed(510)\n",
        "    index = np.random.choice(X.shape[0], self.k, replace = False)\n",
        "    self.centroids = X[index]\n",
        "\n",
        "  def distance(self, X):\n",
        "    return 1 - pairwise_distances(X, self.centroids, metric='cosine')\n",
        "\n",
        "  def assign_clusters(self, distances):\n",
        "    return np.argmax(distances, axis=1)\n",
        "\n",
        "  def update_centroids(self, X, labels):\n",
        "    updated_centroids = np.zeros_like(self.centroids)\n",
        "    for k in range(self.k):\n",
        "      cluster_points = X[labels ==k]\n",
        "      if cluster_points.shape[0] > 0:\n",
        "        updated_centroids[k] = np.mean(cluster_points, axis=0)\n",
        "    return updated_centroids\n",
        "\n",
        "  def compute_objective(self, distances, labels):\n",
        "    return np.sum([distances[i, labels[i]] ** 2 for i in range(len(labels))])\n",
        "\n",
        "  def fit(self, X):\n",
        "    self.initial_centroids(X)\n",
        "\n",
        "    for i in range(self.max_iters):\n",
        "      distances = self.distance(X)\n",
        "      labels = self.assign_clusters(distances)\n",
        "      new_centroids = self.update_centroids(X, labels)\n",
        "      objective_value = self.compute_objective(distances, labels)\n",
        "\n",
        "      centroid_shift = np.linalg.norm(new_centroids - self.centroids)\n",
        "      if self.verbose:\n",
        "        print(f\"Objective: {objective_value}\")\n",
        "      if centroid_shift < self.tol:\n",
        "        break\n",
        "\n",
        "      self.centroids = new_centroids\n",
        "\n",
        "    return labels\n",
        "\n",
        "  def predict(self, X):\n",
        "    distances = self.distance(X)\n",
        "    return self.assign_clusters(distances)\n",
        "\n",
        "  def purity_score(self, y_true, y_pred):\n",
        "    clusters = np.unique(y_pred)\n",
        "    majority_sum = 0\n",
        "    for cluster in clusters:\n",
        "      index = np.where(y_pred == cluster)\n",
        "      majority_class = np.bincount(y_true[index]).argmax()\n",
        "      majority_sum += np.sum(y_true[index] == majority_class)\n",
        "    return majority_sum / len(y_true)\n",
        "\n",
        "  def gini_index(self, y_true, y_pred):\n",
        "        clusters = np.unique(y_pred)\n",
        "        gini = 0\n",
        "        for cluster in clusters:\n",
        "            cluster_mask = (y_pred == cluster) #count of when model is right\n",
        "            cluster_labels = y_true[cluster_mask] #count\n",
        "            cluster_size = np.sum(cluster_mask)\n",
        "            gini_cluster = 1 - np.sum((np.unique(cluster_labels, return_counts=True)[1] / cluster_size) ** 2)\n",
        "            gini += (cluster_size / len(y_true)) * gini_cluster\n",
        "        return gini\n",
        "\n",
        "\n",
        "\n",
        "kmeans = Kmeans20NG(k = 20, max_iters= 100, tol = 1e-6)\n",
        "\n",
        "X = ng_df.values\n",
        "y_true = ng_df['Label'].values\n",
        "\n",
        "\n",
        "y_pred = kmeans.fit(X)\n",
        "\n",
        "distances = kmeans.distance(X)\n",
        "objective_value = kmeans.compute_objective(distances, y_pred)\n",
        "print(\"Objective Value:\", objective_value)\n",
        "purity = kmeans.purity_score(y_true, y_pred)\n",
        "print(\"Purity Score:\", purity)\n",
        "gini = kmeans.gini_index(y_true, y_pred)\n",
        "print(\"Gini Index:\", gini)\n",
        "\n",
        "\n",
        "\n",
        "\n",
        "\n"
      ],
      "metadata": {
        "colab": {
          "base_uri": "https://localhost:8080/"
        },
        "id": "QHOl-T0eszen",
        "outputId": "81cc2305-6161-40d3-b262-1e1c8c528628"
      },
      "execution_count": 10,
      "outputs": [
        {
          "output_type": "stream",
          "name": "stdout",
          "text": [
            "Objective: 6797.274744146243\n",
            "Objective: 6833.413374063614\n",
            "Objective: 6848.5592393616225\n",
            "Objective: 6852.239454760565\n",
            "Objective: 6856.169338172969\n",
            "Objective: 6857.719279831303\n",
            "Objective: 6858.05481186882\n",
            "Objective: 6858.189868968489\n",
            "Objective: 6858.478967559733\n",
            "Objective: 6858.543695288893\n",
            "Objective: 6858.647693544663\n",
            "Objective: 6858.683084505739\n",
            "Objective: 6858.69787129888\n",
            "Objective: 6858.69907261757\n",
            "Objective Value: 6858.69907261757\n",
            "Purity Score: 0.21109930961232076\n",
            "Gini Index: 0.8136400280804393\n"
          ]
        }
      ]
    },
    {
      "cell_type": "code",
      "source": [],
      "metadata": {
        "id": "i8Xuyb_T2tjm"
      },
      "execution_count": null,
      "outputs": []
    },
    {
      "cell_type": "markdown",
      "source": [
        "Purity Score kmeans=10 for the 20NG: 0.17219861922464152\n",
        "\n",
        "\n",
        "Gini Index kmeans=10 for the 20NG: 0.477318085316\n",
        "\n",
        "\n",
        "Purity Score kmeans=20 for the 20NG:  0.21109930961232076\n",
        "\n",
        "\n",
        "Gini Index kmeans=20 for the 20NG: 0.8136400280804393\n",
        "\n",
        "Purity Score kmeans=5 for the 20NG: 0.1541423260754116\n",
        "\n",
        "Gini Index kmeans=5 for the 20NG: 0.63642321976\n",
        "\n",
        "\n",
        "\n",
        "\n"
      ],
      "metadata": {
        "id": "P70jbRFUQryZ"
      }
    },
    {
      "cell_type": "markdown",
      "source": [
        "Now I am doing the soft k means:"
      ],
      "metadata": {
        "id": "GHj2ie2e5RDf"
      }
    },
    {
      "cell_type": "code",
      "source": [
        "class softKMeans():\n",
        "    def __init__(self, k=10, tol=1e-6, beta = 0.1):\n",
        "        self.k = k\n",
        "        self.tol = tol\n",
        "        self.beta = beta\n",
        "\n",
        "    def fit(self, df, max_iter = 100):\n",
        "        df = np.array(df)  # easy enough, turning to an array\n",
        "        min_, max_ = np.min(df, axis=0), np.max(df, axis=0)  # finding the min and max across columns\n",
        "        self.centroids = [np.random.uniform(min_, max_) for index in range(self.k)]  #I think this is still good to add for soft k means, since we still need centroids\n",
        "        # above it is randomly placing centroids for the number of clusters\n",
        "\n",
        "        iteration = 0\n",
        "        prev_centroids = None  # just initializing the centroids\n",
        "\n",
        "        for iteration in range(max_iter):  #looping until tolerence is hit\n",
        "            dists = np.linalg.norm(df[:, None, :] - self.centroids, axis=2)\n",
        "\n",
        "\n",
        "            responsibilities = np.exp(-self.beta * dists)  #here is where we are calculating\n",
        "            responsibilities /= np.sum(responsibilities, axis=1, keepdims=True)  #normalizing\n",
        "\n",
        "\n",
        "            #sorted_points = [[] for _ in range(self.k)]  # starts off with empty list for each centroid\n",
        "            #dists = np.linalg.norm(df[:, None, :] - np.array(self.centroids), axis=2)  # need to figure out what this is\n",
        "            #cluster_indices = np.argmin(dists, axis=1)  # assigning each point to the closest cluster\n",
        "            #sorted_points = [df[cluster_indices == i] for i in range(self.k)]  # sorting points into clusters based on the closest centroid\n",
        "\n",
        "            prev_centroids = self.centroids.copy()\n",
        "            self.centroids = (responsibilities .T @ df) / np.sum(responsibilities, axis=0)[:, None]  #just getting weighted average\n",
        "\n",
        "\n",
        "            for i, centroid in enumerate(self.centroids):\n",
        "                if np.isnan(centroid).any():\n",
        "                    self.centroids[i] = prev_centroids[i]\n",
        "\n",
        "            centroid_diff = np.sum((np.array(self.centroids) - np.array(prev_centroids)) ** 2)\n",
        "\n",
        "\n",
        "            if centroid_diff < self.tol:\n",
        "                print(f\"Converged after {iteration} iterations.\")\n",
        "                break\n",
        "\n",
        "    def euclidean(self, point, data):\n",
        "        return np.sqrt(np.sum((point - data) ** 2, axis=1))\n",
        "\n",
        "    def evaluate(self, X):\n",
        "        X = np.array(X)\n",
        "        dists = np.linalg.norm(X[:, None, :] - self.centroids, axis=2)\n",
        "        responsibilities = np.exp(-self.beta * dists)\n",
        "        responsibilities /= np.sum(responsibilities, axis=1, keepdims=True)\n",
        "        return responsibilities\n"
      ],
      "metadata": {
        "id": "qAbejpUU5Un4"
      },
      "execution_count": 5,
      "outputs": []
    },
    {
      "cell_type": "code",
      "source": [
        "X = normalized_df.values\n",
        "\n",
        "softkmeans = softKMeans(beta = 1)\n",
        "softkmeans.fit(X)"
      ],
      "metadata": {
        "id": "YkoOJTaXPVIj"
      },
      "execution_count": 16,
      "outputs": []
    },
    {
      "cell_type": "code",
      "source": [
        "def purity_score(y_true, y_pred):\n",
        "    contingency_matrix = metrics.cluster.contingency_matrix(y_true, y_pred)\n",
        "    return np.sum(np.amax(contingency_matrix, axis=0)) / np.sum(contingency_matrix)\n",
        "\n",
        "from sklearn import metrics"
      ],
      "metadata": {
        "id": "eoh6xLWiSPim"
      },
      "execution_count": 9,
      "outputs": []
    },
    {
      "cell_type": "code",
      "source": [
        "y_pred.shape"
      ],
      "metadata": {
        "colab": {
          "base_uri": "https://localhost:8080/"
        },
        "id": "YXkOZrr2SVmc",
        "outputId": "669d6b05-67a0-4e26-e309-1792cd31ae63"
      },
      "execution_count": 12,
      "outputs": [
        {
          "output_type": "execute_result",
          "data": {
            "text/plain": [
              "(70000, 10)"
            ]
          },
          "metadata": {},
          "execution_count": 12
        }
      ]
    },
    {
      "cell_type": "code",
      "source": [
        "normalized_df['Label'].values.shape"
      ],
      "metadata": {
        "colab": {
          "base_uri": "https://localhost:8080/"
        },
        "id": "Hoj8doi4Sar-",
        "outputId": "d9257626-bfe4-4185-804f-e48165ac6a62"
      },
      "execution_count": 13,
      "outputs": [
        {
          "output_type": "execute_result",
          "data": {
            "text/plain": [
              "(70000,)"
            ]
          },
          "metadata": {},
          "execution_count": 13
        }
      ]
    },
    {
      "cell_type": "code",
      "source": [
        "y_pred = np.argmax(softkmeans.evaluate(X), axis=1)\n",
        "\n",
        "y_true = normalized_df['Label'].values\n",
        "purity = purity_score(y_true, y_pred)\n",
        "print(\"Purity Score for softKmeans:\", purity)"
      ],
      "metadata": {
        "colab": {
          "base_uri": "https://localhost:8080/"
        },
        "id": "G-FwkZXgP4Lb",
        "outputId": "d1d87982-a4cd-42ff-addc-d1ab7d6eb155"
      },
      "execution_count": 17,
      "outputs": [
        {
          "output_type": "stream",
          "name": "stdout",
          "text": [
            "Purity Score for softKmeans: 0.4432142857142857\n"
          ]
        }
      ]
    },
    {
      "cell_type": "markdown",
      "source": [
        "Purity Score for softKmeans beta = 0.1: 0.21748571428571428\n",
        "\n",
        "\n",
        "Purity Score for softKmeans beta = 1:  0.4432142857142857\n",
        "\n",
        "\n",
        "Purity Score for softKmeans beta = 10: 0.64956432611"
      ],
      "metadata": {
        "id": "ub1PG5smWAUM"
      }
    }
  ]
}